{
 "cells": [
  {
   "cell_type": "code",
   "execution_count": null,
   "metadata": {
    "vscode": {
     "languageId": "plaintext"
    }
   },
   "outputs": [],
   "source": [
    "!pip install ffmpeg\n",
    "start_time = '00:00:10' # Start time for trimming (HH:MM:SS)\n",
    "end_time = '00:00:20' # End time for trimming (HH:MM:SS)\n",
    "\n",
    "(\n",
    "\tffmpeg.input(\"input.mp4\", ss=start_time, to=end_time)\n",
    "\t.output(\"trimmed_output.mp4\")\n",
    "\t.run()\n",
    ")\n",
    "# start_time=input(\"Please enter start time in HH:MM:SS: \")\n",
    "\n",
    "# #format start_time correctly\n",
    "# while start_time<0:\n",
    "#     print(\"Invalid Start Time\")\n",
    "#     start_time=input(\"Please enter start time in seconds: \")\n",
    "# end_time=input(\"Please enter end time in seconds: \")\n",
    "# while end_time<start_time && end_time>:\n",
    "#     print(\"Invalid End Time\")\n",
    "#     end_time=input(\"Please enter end time in seconds: \")\n",
    "\n"
   ]
  },
  {
   "cell_type": "code",
   "execution_count": 1,
   "metadata": {},
   "outputs": [
    {
     "ename": "IndentationError",
     "evalue": "expected an indented block after function definition on line 1 (1622747747.py, line 3)",
     "output_type": "error",
     "traceback": [
      "\u001b[0;36m  Cell \u001b[0;32mIn[1], line 3\u001b[0;36m\u001b[0m\n\u001b[0;31m    start_time = '00:00:10' # Start time for trimming (HH:MM:SS)\u001b[0m\n\u001b[0m    ^\u001b[0m\n\u001b[0;31mIndentationError\u001b[0m\u001b[0;31m:\u001b[0m expected an indented block after function definition on line 1\n"
     ]
    }
   ],
   "source": [
    "\n",
    "def correctFormat(time):\n",
    "    if !(isdigit(time[0:1]) && isdigit(time[3:4] && isdigit(time[6:7]):\n",
    "        return False\n",
    "    if !(time[2]== \":\" && time[5]== \":\"): \n",
    "        return False\n",
    "    return True\n",
    "    \n",
    "def convertToSec(time):\n",
    "    return(int(time[0:1])*3600 + int(time[3:4])*60 + int(time[6:7])\n",
    "def check_Start(start_time):\n",
    "    if !(correctFormat(start_time)):\n",
    "        return 1\n",
    "    start_time_secs= convertToSec(start_time)\n",
    "    if convertToSec(start_time) >= convertToSec(duration):\n",
    "        return 2\n",
    "    return 0\n",
    "\n",
    "def check_End(end_time):\n",
    "    if !(correctFormat(end_time):\n",
    "        return 1\n",
    "    if convertToSec(end_time)<=convertToSec(start_time):\n",
    "        return 2\n",
    "    return 0\n",
    "start_time=input(\"Please enter start time in HH:MM:SS format: \")\n",
    "error_handle=check_Start(start_time)\n",
    "while error_handle!=0\"\n",
    "    if error_handle==1:\n",
    "        print(\"Please enter start time in the correct HH:MM:SS format!\")\n",
    "    if error_handle==2:\n",
    "        print(\"Invalid Start Time! Please enter time within video duration!\")\n",
    "    start_time=input(\"Please enter start time in HH:MM:SS format: \")\n",
    "\n",
    "# #format start_time correctly\n",
    "# while start_time<0:\n",
    "#     print(\"Invalid Start Time\")\n",
    "#     start_time=input(\"Please enter start time in seconds: \")\n",
    "end_time=input(\"Please enter end time in HH:MM:SS format: \")\n",
    "error_handle=check_Start(end_time)\n",
    "while error_handle!=0\"\n",
    "    if error_handle==1:\n",
    "        print(\"Please enter start time in the correct HH:MM:SS format!\")\n",
    "    if error_handle==2:\n",
    "        print(\"Invalid End Time! Please enter time after start_time!\")\n",
    "    end_time=input(\"Please enter end time in HH:MM:SS format: \")\n",
    "# while end_time<start_time && end_time>:\n",
    "#     print(\"Invalid End Time\")\n",
    "#     end_time=input(\"Please enter end time in seconds: \")\n",
    "    \n",
    "    \n",
    "# start_time = '00:00:10' # Start time for trimming (HH:MM:SS)\n",
    "# end_time = '00:00:20' # End time for trimming (HH:MM:SS)\n",
    "\n",
    "(\n",
    "\tffmpeg.input(\"input.mp4\", ss=start_time, to=end_time)\n",
    "\t.output(\"trimmed_output.mp4\")\n",
    "\t.run()\n",
    ")"
   ]
  },
  {
   "cell_type": "code",
   "execution_count": null,
   "metadata": {},
   "outputs": [],
   "source": []
  }
 ],
 "metadata": {
  "kernelspec": {
   "display_name": "Python 3 (ipykernel)",
   "language": "python",
   "name": "python3"
  },
  "language_info": {
   "codemirror_mode": {
    "name": "ipython",
    "version": 3
   },
   "file_extension": ".py",
   "mimetype": "text/x-python",
   "name": "python",
   "nbconvert_exporter": "python",
   "pygments_lexer": "ipython3",
   "version": "3.12.4"
  }
 },
 "nbformat": 4,
 "nbformat_minor": 4
}
